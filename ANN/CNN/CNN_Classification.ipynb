{
  "cells": [
    {
      "cell_type": "code",
      "execution_count": 5,
      "id": "d4ee0c4e-1cf7-4355-8b19-ec1ce16659cb",
      "metadata": {
        "colab": {
          "base_uri": "https://localhost:8080/"
        },
        "id": "d4ee0c4e-1cf7-4355-8b19-ec1ce16659cb",
        "outputId": "81672c1c-5ce9-48b5-e974-97ea49baf427"
      },
      "outputs": [
        {
          "output_type": "stream",
          "name": "stdout",
          "text": [
            "Downloading data from https://storage.googleapis.com/tensorflow/tf-keras-datasets/mnist.npz\n",
            "11490434/11490434 [==============================] - 0s 0us/step\n"
          ]
        }
      ],
      "source": [
        "import tensorflow as tf\n",
        "(x_train, y_train), (x_test, y_test) = tf.keras.datasets.mnist.load_data()"
      ]
    },
    {
      "cell_type": "code",
      "execution_count": 6,
      "id": "79949786-bc6a-4f2a-9cad-c22dd9b51bbd",
      "metadata": {
        "colab": {
          "base_uri": "https://localhost:8080/"
        },
        "id": "79949786-bc6a-4f2a-9cad-c22dd9b51bbd",
        "outputId": "52d94dfd-d8bd-4217-9974-31b423bae7a9"
      },
      "outputs": [
        {
          "output_type": "execute_result",
          "data": {
            "text/plain": [
              "(60000, 28, 28)"
            ]
          },
          "metadata": {},
          "execution_count": 6
        }
      ],
      "source": [
        "x_train.shape"
      ]
    },
    {
      "cell_type": "code",
      "execution_count": 7,
      "id": "a11b13cf-a36a-488e-9735-29593dfd3a71",
      "metadata": {
        "colab": {
          "base_uri": "https://localhost:8080/"
        },
        "id": "a11b13cf-a36a-488e-9735-29593dfd3a71",
        "outputId": "9277f9f9-4952-4b23-ff0e-f21974a21c37"
      },
      "outputs": [
        {
          "output_type": "execute_result",
          "data": {
            "text/plain": [
              "(10000, 28, 28)"
            ]
          },
          "metadata": {},
          "execution_count": 7
        }
      ],
      "source": [
        "x_test.shape"
      ]
    },
    {
      "cell_type": "code",
      "execution_count": 8,
      "id": "3de68433-9d66-4e01-8f69-402b1eddb0e3",
      "metadata": {
        "id": "3de68433-9d66-4e01-8f69-402b1eddb0e3"
      },
      "outputs": [],
      "source": [
        "x_train = x_train.reshape(x_train.shape[0], 28, 28, 1)\n",
        "x_test = x_test.reshape(x_test.shape[0], 28, 28, 1)\n",
        "input_shape = (28, 28, 1)"
      ]
    },
    {
      "cell_type": "code",
      "execution_count": 9,
      "id": "588ada97-c7a1-4882-8411-e1ed14f20e52",
      "metadata": {
        "id": "588ada97-c7a1-4882-8411-e1ed14f20e52"
      },
      "outputs": [],
      "source": [
        "x_train = x_train.astype('float32')\n",
        "x_test = x_test.astype('float32')"
      ]
    },
    {
      "cell_type": "code",
      "execution_count": 10,
      "id": "a35a4c9e-43de-4dad-9563-1b301037bff0",
      "metadata": {
        "id": "a35a4c9e-43de-4dad-9563-1b301037bff0"
      },
      "outputs": [],
      "source": [
        "x_train /= 255\n",
        "x_test /= 255"
      ]
    },
    {
      "cell_type": "code",
      "execution_count": 11,
      "id": "0372e37f-da33-4b51-824a-ed529a5a6858",
      "metadata": {
        "id": "0372e37f-da33-4b51-824a-ed529a5a6858"
      },
      "outputs": [],
      "source": [
        "from tensorflow.keras.models import Sequential\n",
        "from tensorflow.keras.layers import Dense, Conv2D, Dropout, Flatten, MaxPooling2D\n",
        "model = Sequential()\n",
        "model.add(Conv2D(28, kernel_size=(3,3), input_shape=input_shape))\n",
        "model.add(MaxPooling2D(pool_size=(2, 2)))\n",
        "model.add(Flatten())\n",
        "model.add(Dense(128, activation=tf.nn.relu))\n",
        "model.add(Dropout(0.2))\n",
        "model.add(Dense(10,activation=tf.nn.softmax))"
      ]
    },
    {
      "cell_type": "code",
      "execution_count": 12,
      "id": "b2e25194-e16b-498d-96bb-b2aa9b3f3f27",
      "metadata": {
        "colab": {
          "base_uri": "https://localhost:8080/"
        },
        "id": "b2e25194-e16b-498d-96bb-b2aa9b3f3f27",
        "outputId": "fd90c6de-9d94-4413-f067-29c5a09f3222"
      },
      "outputs": [
        {
          "output_type": "stream",
          "name": "stdout",
          "text": [
            "Epoch 1/10\n",
            "1875/1875 [==============================] - 39s 20ms/step - loss: 0.2014 - accuracy: 0.9395\n",
            "Epoch 2/10\n",
            "1875/1875 [==============================] - 39s 21ms/step - loss: 0.0814 - accuracy: 0.9753\n",
            "Epoch 3/10\n",
            "1875/1875 [==============================] - 41s 22ms/step - loss: 0.0559 - accuracy: 0.9824\n",
            "Epoch 4/10\n",
            "1875/1875 [==============================] - 38s 20ms/step - loss: 0.0427 - accuracy: 0.9867\n",
            "Epoch 5/10\n",
            "1875/1875 [==============================] - 39s 21ms/step - loss: 0.0347 - accuracy: 0.9885\n",
            "Epoch 6/10\n",
            "1875/1875 [==============================] - 39s 21ms/step - loss: 0.0268 - accuracy: 0.9908\n",
            "Epoch 7/10\n",
            "1875/1875 [==============================] - 39s 21ms/step - loss: 0.0237 - accuracy: 0.9921\n",
            "Epoch 8/10\n",
            "1875/1875 [==============================] - 39s 21ms/step - loss: 0.0203 - accuracy: 0.9932\n",
            "Epoch 9/10\n",
            "1875/1875 [==============================] - 39s 21ms/step - loss: 0.0215 - accuracy: 0.9926\n",
            "Epoch 10/10\n",
            "1875/1875 [==============================] - 38s 20ms/step - loss: 0.0155 - accuracy: 0.9947\n"
          ]
        },
        {
          "output_type": "execute_result",
          "data": {
            "text/plain": [
              "<keras.src.callbacks.History at 0x7958253678e0>"
            ]
          },
          "metadata": {},
          "execution_count": 12
        }
      ],
      "source": [
        "#https://keras.io/api/optimizers/\n",
        "model.compile(optimizer='adam', loss='sparse_categorical_crossentropy', metrics=['accuracy'])\n",
        "model.fit(x=x_train,y=y_train, epochs=10)"
      ]
    },
    {
      "cell_type": "code",
      "execution_count": null,
      "id": "005440f2-4260-4c2f-9c06-7c2b905f498e",
      "metadata": {
        "id": "005440f2-4260-4c2f-9c06-7c2b905f498e"
      },
      "outputs": [],
      "source": [
        "model.evaluate(x_test, y_test)"
      ]
    },
    {
      "cell_type": "code",
      "source": [
        "import numpy as np\n",
        "y_predict_fash = model.predict(x_test)\n",
        "y_predict=np.argmax(y_predict_fash, axis=1)\n",
        "#y_test_fash_eval=np.argmax(y_test, axis=1)"
      ],
      "metadata": {
        "id": "IB50JXb_K0ua",
        "outputId": "ac3e2f8d-eb90-4fe7-ab62-686f9150f207",
        "colab": {
          "base_uri": "https://localhost:8080/"
        }
      },
      "id": "IB50JXb_K0ua",
      "execution_count": 18,
      "outputs": [
        {
          "output_type": "stream",
          "name": "stdout",
          "text": [
            "313/313 [==============================] - 3s 10ms/step\n"
          ]
        }
      ]
    },
    {
      "cell_type": "code",
      "execution_count": 15,
      "id": "47a658b0-c1bb-41e0-9e49-19e2514ca747",
      "metadata": {
        "colab": {
          "base_uri": "https://localhost:8080/",
          "height": 466
        },
        "id": "47a658b0-c1bb-41e0-9e49-19e2514ca747",
        "outputId": "4fba0593-bc7d-4970-ed61-a904648e77ee"
      },
      "outputs": [
        {
          "output_type": "stream",
          "name": "stdout",
          "text": [
            "1/1 [==============================] - 0s 47ms/step\n",
            "6\n"
          ]
        },
        {
          "output_type": "display_data",
          "data": {
            "text/plain": [
              "<Figure size 640x480 with 1 Axes>"
            ],
            "image/png": "[encoded data removed]"
          },
          "metadata": {}
        }
      ],
      "source": [
        "import matplotlib.pyplot as plt\n",
        "image_index = 6900\n",
        "plt.imshow(x_test[image_index].reshape(28, 28),cmap='Greys')\n",
        "predict = x_test[image_index].reshape(28,28)\n",
        "pred = model.predict(x_test[image_index].reshape(1, 28, 28, 1))\n",
        "print(pred.argmax())"
      ]
    },
    {
      "cell_type": "code",
      "execution_count": 1,
      "id": "23a47600-fdc7-4158-bdae-bc2ab38ef02d",
      "metadata": {
        "id": "23a47600-fdc7-4158-bdae-bc2ab38ef02d"
      },
      "outputs": [],
      "source": [
        "#pip list"
      ]
    },
    {
      "cell_type": "code",
      "execution_count": 20,
      "id": "9ad092f8-6e7b-4867-a6c9-41c98ad5c6bc",
      "metadata": {
        "id": "9ad092f8-6e7b-4867-a6c9-41c98ad5c6bc",
        "colab": {
          "base_uri": "https://localhost:8080/"
        },
        "outputId": "5680ddc8-ab32-417a-aff5-22f5a7207182"
      },
      "outputs": [
        {
          "output_type": "stream",
          "name": "stdout",
          "text": [
            "              precision    recall  f1-score   support\n",
            "\n",
            "           0       0.99      0.99      0.99       983\n",
            "           1       0.99      0.99      0.99      1133\n",
            "           2       0.99      0.98      0.98      1043\n",
            "           3       0.99      0.99      0.99      1007\n",
            "           4       0.99      0.98      0.99       994\n",
            "           5       0.98      0.99      0.99       885\n",
            "           6       0.99      0.99      0.99       958\n",
            "           7       0.99      0.98      0.99      1034\n",
            "           8       0.98      0.99      0.99       962\n",
            "           9       0.98      0.99      0.99      1001\n",
            "\n",
            "    accuracy                           0.99     10000\n",
            "   macro avg       0.99      0.99      0.99     10000\n",
            "weighted avg       0.99      0.99      0.99     10000\n",
            "\n"
          ]
        }
      ],
      "source": [
        "from sklearn.metrics import classification_report\n",
        "\n",
        "print(classification_report(y_predict,y_test))\n"
      ]
    },
    {
      "cell_type": "code",
      "execution_count": 20,
      "id": "e9e6f80c-52eb-4552-ad25-010f368c4ef2",
      "metadata": {
        "id": "e9e6f80c-52eb-4552-ad25-010f368c4ef2"
      },
      "outputs": [],
      "source": []
    },
    {
      "cell_type": "code",
      "execution_count": null,
      "id": "8313f80e-43d2-4887-9e59-1933dcd9f092",
      "metadata": {
        "id": "8313f80e-43d2-4887-9e59-1933dcd9f092"
      },
      "outputs": [],
      "source": []
    },
    {
      "cell_type": "code",
      "execution_count": null,
      "id": "a9851a92-9e78-48cf-b096-a7a92862a093",
      "metadata": {
        "id": "a9851a92-9e78-48cf-b096-a7a92862a093"
      },
      "outputs": [],
      "source": []
    }
  ],
  "metadata": {
    "kernelspec": {
      "display_name": "Python 3 (ipykernel)",
      "language": "python",
      "name": "python3"
    },
    "language_info": {
      "codemirror_mode": {
        "name": "ipython",
        "version": 3
      },
      "file_extension": ".py",
      "mimetype": "text/x-python",
      "name": "python",
      "nbconvert_exporter": "python",
      "pygments_lexer": "ipython3",
      "version": "3.10.13"
    },
    "colab": {
      "provenance": []
    }
  },
  "nbformat": 4,
  "nbformat_minor": 5
}