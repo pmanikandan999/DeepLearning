{
 "cells": [
  {
   "cell_type": "code",
   "execution_count": null,
   "id": "d4ee0c4e-1cf7-4355-8b19-ec1ce16659cb",
   "metadata": {
    "colab": {
     "base_uri": "https://localhost:8080/"
    },
    "id": "d4ee0c4e-1cf7-4355-8b19-ec1ce16659cb",
    "outputId": "c0caeee9-1483-4b47-9b21-6bc059f05616"
   },
   "outputs": [],
   "source": [
    "import tensorflow as tf\n",
    "(x_train, y_train), (x_test, y_test) = tf.keras.datasets.mnist.load_data()"
   ]
  },
  {
   "cell_type": "code",
   "execution_count": null,
   "id": "79949786-bc6a-4f2a-9cad-c22dd9b51bbd",
   "metadata": {
    "colab": {
     "base_uri": "https://localhost:8080/"
    },
    "id": "79949786-bc6a-4f2a-9cad-c22dd9b51bbd",
    "outputId": "77c4c39d-6778-43f0-8529-401a3ea4a40b"
   },
   "outputs": [],
   "source": [
    "x_train.shape"
   ]
  },
  {
   "cell_type": "code",
   "execution_count": null,
   "id": "a11b13cf-a36a-488e-9735-29593dfd3a71",
   "metadata": {
    "colab": {
     "base_uri": "https://localhost:8080/"
    },
    "id": "a11b13cf-a36a-488e-9735-29593dfd3a71",
    "outputId": "ddbffb3c-7f27-4ba1-fc54-bc61f16779ef"
   },
   "outputs": [],
   "source": [
    "x_test.shape"
   ]
  },
  {
   "cell_type": "code",
   "execution_count": null,
   "id": "3de68433-9d66-4e01-8f69-402b1eddb0e3",
   "metadata": {
    "id": "3de68433-9d66-4e01-8f69-402b1eddb0e3"
   },
   "outputs": [],
   "source": [
    "x_train = x_train.reshape(x_train.shape[0], 28, 28, 1)\n",
    "x_test = x_test.reshape(x_test.shape[0], 28, 28, 1)\n",
    "input_shape = (28, 28, 1)"
   ]
  },
  {
   "cell_type": "code",
   "execution_count": null,
   "id": "588ada97-c7a1-4882-8411-e1ed14f20e52",
   "metadata": {
    "id": "588ada97-c7a1-4882-8411-e1ed14f20e52"
   },
   "outputs": [],
   "source": [
    "x_train = x_train.astype('float32')\n",
    "x_test = x_test.astype('float32')"
   ]
  },
  {
   "cell_type": "code",
   "execution_count": null,
   "id": "a35a4c9e-43de-4dad-9563-1b301037bff0",
   "metadata": {
    "id": "a35a4c9e-43de-4dad-9563-1b301037bff0"
   },
   "outputs": [],
   "source": [
    "x_train /= 255\n",
    "x_test /= 255"
   ]
  },
  {
   "cell_type": "code",
   "execution_count": null,
   "id": "0372e37f-da33-4b51-824a-ed529a5a6858",
   "metadata": {
    "id": "0372e37f-da33-4b51-824a-ed529a5a6858"
   },
   "outputs": [],
   "source": [
    "from tensorflow.keras.models import Sequential\n",
    "from tensorflow.keras.layers import Dense, Conv2D, Dropout, Flatten, MaxPooling2D\n",
    "model = Sequential()\n",
    "model.add(Conv2D(28, kernel_size=(3,3), input_shape=input_shape))\n",
    "model.add(MaxPooling2D(pool_size=(2, 2)))\n",
    "model.add(Flatten())\n",
    "model.add(Dense(128, activation=tf.nn.relu))\n",
    "model.add(Dropout(0.2))\n",
    "model.add(Dense(10,activation=tf.nn.softmax))"
   ]
  },
  {
   "cell_type": "code",
   "execution_count": null,
   "id": "b2e25194-e16b-498d-96bb-b2aa9b3f3f27",
   "metadata": {
    "colab": {
     "base_uri": "https://localhost:8080/"
    },
    "id": "b2e25194-e16b-498d-96bb-b2aa9b3f3f27",
    "outputId": "0ed31a47-a39f-4361-87eb-f398b25b0f51"
   },
   "outputs": [],
   "source": [
    "#https://keras.io/api/optimizers/\n",
    "model.compile(optimizer='adam', loss='sparse_categorical_crossentropy', metrics=['accuracy'])\n",
    "model.fit(x=x_train,y=y_train, epochs=10)"
   ]
  },
  {
   "cell_type": "code",
   "execution_count": null,
   "id": "005440f2-4260-4c2f-9c06-7c2b905f498e",
   "metadata": {
    "colab": {
     "base_uri": "https://localhost:8080/"
    },
    "id": "005440f2-4260-4c2f-9c06-7c2b905f498e",
    "outputId": "524bb679-f7c7-472b-dfb4-ebe303b1ae8f"
   },
   "outputs": [],
   "source": [
    "model.evaluate(x_test, y_test)"
   ]
  },
  {
   "cell_type": "code",
   "execution_count": null,
   "id": "46d29864-327b-437a-9ffa-986822e7f573",
   "metadata": {},
   "outputs": [],
   "source": []
  },
  {
   "cell_type": "code",
   "execution_count": null,
   "id": "d9f922dd-6039-4d89-a3be-b10ccd5fd609",
   "metadata": {},
   "outputs": [],
   "source": []
  },
  {
   "cell_type": "code",
   "execution_count": null,
   "id": "ec025757-61bc-4bff-aa8b-e165e4a66091",
   "metadata": {},
   "outputs": [],
   "source": []
  },
  {
   "cell_type": "code",
   "execution_count": null,
   "id": "bf533eac-8638-4906-b675-a1c48386548e",
   "metadata": {},
   "outputs": [],
   "source": []
  },
  {
   "cell_type": "code",
   "execution_count": null,
   "id": "47a658b0-c1bb-41e0-9e49-19e2514ca747",
   "metadata": {
    "colab": {
     "base_uri": "https://localhost:8080/",
     "height": 466
    },
    "id": "47a658b0-c1bb-41e0-9e49-19e2514ca747",
    "outputId": "3ee4b714-4003-4cf8-df20-1dd901d36142"
   },
   "outputs": [],
   "source": [
    "import matplotlib.pyplot as plt\n",
    "image_index = 6900\n",
    "plt.imshow(x_test[image_index].reshape(28, 28),cmap='Greys')\n",
    "predict = x_test[image_index].reshape(28,28)\n",
    "pred = model.predict(x_test[image_index].reshape(1, 28, 28, 1))\n",
    "print(pred.argmax())"
   ]
  },
  {
   "cell_type": "code",
   "execution_count": null,
   "id": "23a47600-fdc7-4158-bdae-bc2ab38ef02d",
   "metadata": {
    "colab": {
     "base_uri": "https://localhost:8080/"
    },
    "id": "23a47600-fdc7-4158-bdae-bc2ab38ef02d",
    "outputId": "8f959759-011d-4948-fcd2-8ae3326ffb39"
   },
   "outputs": [],
   "source": [
    "#pip list"
   ]
  },
  {
   "cell_type": "code",
   "execution_count": null,
   "id": "9ad092f8-6e7b-4867-a6c9-41c98ad5c6bc",
   "metadata": {
    "id": "9ad092f8-6e7b-4867-a6c9-41c98ad5c6bc"
   },
   "outputs": [],
   "source": [
    "\n"
   ]
  },
  {
   "cell_type": "code",
   "execution_count": null,
   "id": "e9e6f80c-52eb-4552-ad25-010f368c4ef2",
   "metadata": {
    "id": "e9e6f80c-52eb-4552-ad25-010f368c4ef2"
   },
   "outputs": [],
   "source": []
  },
  {
   "cell_type": "code",
   "execution_count": null,
   "id": "8313f80e-43d2-4887-9e59-1933dcd9f092",
   "metadata": {
    "id": "8313f80e-43d2-4887-9e59-1933dcd9f092"
   },
   "outputs": [],
   "source": []
  },
  {
   "cell_type": "code",
   "execution_count": null,
   "id": "a9851a92-9e78-48cf-b096-a7a92862a093",
   "metadata": {
    "id": "a9851a92-9e78-48cf-b096-a7a92862a093"
   },
   "outputs": [],
   "source": []
  }
 ],
 "metadata": {
  "colab": {
   "provenance": []
  },
  "kernelspec": {
   "display_name": "Python 3 (ipykernel)",
   "language": "python",
   "name": "python3"
  },
  "language_info": {
   "codemirror_mode": {
    "name": "ipython",
    "version": 3
   },
   "file_extension": ".py",
   "mimetype": "text/x-python",
   "name": "python",
   "nbconvert_exporter": "python",
   "pygments_lexer": "ipython3",
   "version": "3.10.13"
  }
 },
 "nbformat": 4,
 "nbformat_minor": 5
}
